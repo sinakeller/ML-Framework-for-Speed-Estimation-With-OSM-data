{
 "metadata": {
  "language_info": {
   "codemirror_mode": {
    "name": "ipython",
    "version": 3
   },
   "file_extension": ".py",
   "mimetype": "text/x-python",
   "name": "python",
   "nbconvert_exporter": "python",
   "pygments_lexer": "ipython3",
   "version": "3.8.3-final"
  },
  "orig_nbformat": 2,
  "kernelspec": {
   "name": "python38364bit214d98f260794b90acdd214930b705a7",
   "display_name": "Python 3.8.3 64-bit"
  }
 },
 "nbformat": 4,
 "nbformat_minor": 2,
 "cells": [
  {
   "cell_type": "markdown",
   "metadata": {},
   "source": [
    "# Biomaule Example\n",
    "Example Application of our Framework on the Biomaule Dataset"
   ]
  },
  {
   "cell_type": "markdown",
   "metadata": {},
   "source": [
    "## Import Packages"
   ]
  },
  {
   "cell_type": "code",
   "execution_count": 1,
   "metadata": {},
   "outputs": [],
   "source": [
    "import numpy as np\n",
    "import pandas as pd\n",
    "from sklearn.preprocessing import StandardScaler\n",
    "\n",
    "import framework\n",
    "import framework.regression.models\n",
    "import framework.data.management"
   ]
  },
  {
   "cell_type": "markdown",
   "metadata": {},
   "source": [
    "## Some Definitions\n",
    "You can change if additional features are generated and used here"
   ]
  },
  {
   "cell_type": "code",
   "execution_count": 2,
   "metadata": {},
   "outputs": [],
   "source": [
    "rand = 42           # To ensure reproducible results\n",
    "with_som = True     # True if you want to use the unsupervised SOM to generate additional features\n",
    "only_som = False    # True if only those SOM generated features should be used as features\n",
    "with_pca = False    # True if PCA generated features should be used"
   ]
  },
  {
   "cell_type": "markdown",
   "metadata": {},
   "source": [
    "## Load Data"
   ]
  },
  {
   "cell_type": "code",
   "execution_count": 3,
   "metadata": {
    "tags": []
   },
   "outputs": [
    {
     "output_type": "stream",
     "name": "stdout",
     "text": [
      "Load Data...\n# Drop entries containing NaN\n#  12 entries droped\n# Finished loading dataset from \"data/biomaule.pkl\" with shape (12679, 13)\n\n"
     ]
    }
   ],
   "source": [
    "framework.data.management.load_data('data/biomaule.pkl',['class_id', 'start_latitude', 'start_longitude', 'end_latitude', 'end_longitude', 'length', 'region_id', 'sinuosity',\n",
    " 'slope_1', 'slope_2', 'support_points_km', 'surface_id'], 'fuzzy_velocity', imputer=None)"
   ]
  },
  {
   "cell_type": "markdown",
   "metadata": {},
   "source": [
    "## Scale and Split Data"
   ]
  },
  {
   "cell_type": "code",
   "execution_count": 4,
   "metadata": {
    "tags": []
   },
   "outputs": [
    {
     "output_type": "stream",
     "name": "stdout",
     "text": [
      "Scale Data...\n\nSplit Data...\n# X_train_scaled shape: (8875, 12)\n# y_train shape: (8875,)\n# X_test_scaled shape: (3804, 12)\n# y_test shape: (3804,)\n\n"
     ]
    }
   ],
   "source": [
    "feature_scaler = StandardScaler()\n",
    "framework.data.management.scale_data(feature_scaler, ['class_id', 'start_latitude', 'start_longitude', 'end_latitude', 'end_longitude', 'length', 'region_id', 'sinuosity',\n",
    " 'slope_1', 'slope_2', 'support_points_km', 'surface_id'])\n",
    "\n",
    "framework.data.management.split_data(test_size=0.3, random_state=rand, shuffle=True)"
   ]
  },
  {
   "cell_type": "markdown",
   "metadata": {},
   "source": [
    "## Train Models"
   ]
  },
  {
   "cell_type": "code",
   "execution_count": 5,
   "metadata": {
    "tags": []
   },
   "outputs": [
    {
     "output_type": "stream",
     "name": "stdout",
     "text": [
      "Start training of Models...\n",
      "# Training: som\n",
      "# Training: lr\n",
      "# Training: ab\n",
      "# Training: et\n",
      "# Training: br\n",
      "# Training: gb\n",
      "# Training: rf\n",
      "# Training: ridge\n",
      "# Training: svr\n"
     ]
    }
   ],
   "source": [
    "results = pd.DataFrame()\n",
    "results = framework.regression.models.train_models(results, n_esti=200, generate_som_clusters=with_som, som_only=only_som, generate_pca=with_pca, pca_components=2)"
   ]
  },
  {
   "cell_type": "markdown",
   "metadata": {},
   "source": [
    "## Results"
   ]
  },
  {
   "cell_type": "code",
   "execution_count": 7,
   "metadata": {
    "tags": []
   },
   "outputs": [
    {
     "output_type": "stream",
     "name": "stdout",
     "text": [
      "\n   Method  Prediction Time                                 feature importance  \\\n10     br         2.121131                                                 {}   \n1      br         1.975742                                                 {}   \n14     rf         0.967069  {'class_id': 0.8105018037942056, 'start_latitu...   \n5      rf         0.674866  {'class_id': 0.8105018037942056, 'start_latitu...   \n2      et         0.808253  {'class_id': 0.6614093010414074, 'start_latitu...   \n11     et         1.012052  {'class_id': 0.6614093010414074, 'start_latitu...   \n3      gb         0.079676  {'class_id': 0.710349067693097, 'start_latitud...   \n12     gb         0.075575  {'class_id': 0.710349067693097, 'start_latitud...   \n17    svr         0.982088                                                 {}   \n8     svr         0.617841                                                 {}   \n0      ab         1.151067  {'class_id': 0.6886096776758782, 'start_latitu...   \n9      ab         1.128674  {'class_id': 0.6886096776758782, 'start_latitu...   \n6   ridge         0.001455                                                 {}   \n15  ridge         0.002961                                                 {}   \n13     lr         0.003137                                                 {}   \n4      lr         0.001350                                                 {}   \n7     som         0.367758                                                 {}   \n16    som         0.616775                                                 {}   \n\n    prediction R2  prediction RMSE  \\\n10       0.999442         0.468795   \n1        0.999442         0.468795   \n14       0.999436         0.471416   \n5        0.999436         0.471416   \n2        0.998803         0.687041   \n11       0.998803         0.687041   \n3        0.998598         0.743292   \n12       0.998598         0.743292   \n17       0.950019         4.438723   \n8        0.950019         4.438723   \n0        0.938110         4.939311   \n9        0.938110         4.939311   \n6        0.895748         6.410605   \n15       0.895748         6.410605   \n13       0.895613         6.414736   \n4        0.895613         6.414736   \n7        0.874625         7.030116   \n16       0.874625         7.030116   \n\n                                               scores  \n10  {'explained_variance': 0.9994425579405575, 'ma...  \n1   {'explained_variance': 0.9994425579405575, 'ma...  \n14  {'explained_variance': 0.9994363130818513, 'ma...  \n5   {'explained_variance': 0.9994363130818513, 'ma...  \n2   {'explained_variance': 0.9988027780362744, 'ma...  \n11  {'explained_variance': 0.9988027780362744, 'ma...  \n3   {'explained_variance': 0.9985986262582298, 'ma...  \n12  {'explained_variance': 0.9985986262582298, 'ma...  \n17  {'explained_variance': 0.9500346290099954, 'ma...  \n8   {'explained_variance': 0.9500346290099954, 'ma...  \n0   {'explained_variance': 0.9482020366894363, 'ma...  \n9   {'explained_variance': 0.9482020366894363, 'ma...  \n6   {'explained_variance': 0.8957961791258859, 'ma...  \n15  {'explained_variance': 0.8957961791258859, 'ma...  \n13  {'explained_variance': 0.8956614696918872, 'ma...  \n4   {'explained_variance': 0.8956614696918872, 'ma...  \n7   {'explained_variance': 0.8748763832723269, 'ma...  \n16  {'explained_variance': 0.8748763832723269, 'ma...  \n"
     ]
    }
   ],
   "source": [
    "results = framework.regression.models.test_models(results, savepred=False)\n",
    "print(\"\")\n",
    "print(results.sort_values(by=['prediction R2'], ascending=False))"
   ]
  },
  {
   "cell_type": "code",
   "execution_count": null,
   "metadata": {},
   "outputs": [],
   "source": []
  }
 ]
}