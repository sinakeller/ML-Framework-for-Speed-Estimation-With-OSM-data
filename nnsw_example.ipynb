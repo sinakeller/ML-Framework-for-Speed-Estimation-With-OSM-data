{
 "metadata": {
  "language_info": {
   "codemirror_mode": {
    "name": "ipython",
    "version": 3
   },
   "file_extension": ".py",
   "mimetype": "text/x-python",
   "name": "python",
   "nbconvert_exporter": "python",
   "pygments_lexer": "ipython3",
   "version": "3.8.3-final"
  },
  "orig_nbformat": 2,
  "kernelspec": {
   "name": "python38364bit214d98f260794b90acdd214930b705a7",
   "display_name": "Python 3.8.3 64-bit"
  }
 },
 "nbformat": 4,
 "nbformat_minor": 2,
 "cells": [
  {
   "cell_type": "markdown",
   "metadata": {},
   "source": [
    "# NNSW Example\n",
    "Example Application of our Framework on the NNSW Dataset"
   ]
  },
  {
   "cell_type": "markdown",
   "metadata": {},
   "source": [
    "## Import Packages"
   ]
  },
  {
   "cell_type": "code",
   "execution_count": 1,
   "metadata": {},
   "outputs": [],
   "source": [
    "import numpy as np\n",
    "import pandas as pd\n",
    "from sklearn.preprocessing import StandardScaler\n",
    "\n",
    "import framework\n",
    "import framework.regression.models\n",
    "import framework.data.management"
   ]
  },
  {
   "cell_type": "markdown",
   "metadata": {},
   "source": [
    "## Some Definitions"
   ]
  },
  {
   "cell_type": "code",
   "execution_count": 2,
   "metadata": {},
   "outputs": [],
   "source": [
    "rand = 42 # To ensure reproducible results\n",
    "with_som = False\n",
    "only_som = False\n",
    "with_pca = False"
   ]
  },
  {
   "cell_type": "markdown",
   "metadata": {},
   "source": [
    "## Load Data"
   ]
  },
  {
   "cell_type": "code",
   "execution_count": 3,
   "metadata": {
    "tags": []
   },
   "outputs": [
    {
     "output_type": "stream",
     "name": "stdout",
     "text": "Load Data...\n# Drop entries containing NaN\n#  0 entries droped\n# Finished loading dataset from \"data/nnsw.pkl\" with shape (16711, 13)\n\n"
    }
   ],
   "source": [
    "framework.data.management.load_data('data/nnsw.pkl',['class_id', 'start_latitude', 'start_longitude', 'end_latitude', 'end_longitude', 'length', 'region_id', 'sinuosity',\n",
    " 'slope_1', 'slope_2', 'support_points_km', 'surface_id'], 'fuzzy_velocity', imputer=None)"
   ]
  },
  {
   "cell_type": "markdown",
   "metadata": {},
   "source": [
    "## Scale and Split Data"
   ]
  },
  {
   "cell_type": "code",
   "execution_count": 4,
   "metadata": {
    "tags": []
   },
   "outputs": [
    {
     "output_type": "stream",
     "name": "stdout",
     "text": "Scale Data...\n\nSplit Data...\n# X_train_scaled shape: (11697, 12)\n# y_train shape: (11697,)\n# X_test_scaled shape: (5014, 12)\n# y_test shape: (5014,)\n\n"
    }
   ],
   "source": [
    "feature_scaler = StandardScaler()\n",
    "framework.data.management.scale_data(feature_scaler, ['class_id', 'start_latitude', 'start_longitude', 'end_latitude', 'end_longitude', 'length', 'region_id', 'sinuosity',\n",
    " 'slope_1', 'slope_2', 'support_points_km', 'surface_id'])\n",
    "\n",
    "framework.data.management.split_data(test_size=0.3, random_state=rand, shuffle=True)"
   ]
  },
  {
   "cell_type": "markdown",
   "metadata": {},
   "source": [
    "## Train Models"
   ]
  },
  {
   "cell_type": "code",
   "execution_count": 5,
   "metadata": {
    "tags": []
   },
   "outputs": [],
   "source": [
    "results = pd.DataFrame()\n",
    "results = framework.regression.models.train_models(results, n_esti=2000,generate_som_clusters=with_som, som_only = only_som, generate_pca=with_pca, pca_components=2)"
   ]
  },
  {
   "cell_type": "markdown",
   "metadata": {},
   "source": [
    "## Results"
   ]
  },
  {
   "cell_type": "code",
   "execution_count": 6,
   "metadata": {
    "tags": []
   },
   "outputs": [
    {
     "output_type": "stream",
     "name": "stdout",
     "text": "\n  Method  Prediction Time feature importance  prediction R2  prediction RMSE  \\\n2     et         0.609682                 {}       0.960231         4.707877   \n5     rf         0.524224                 {}       0.955557         4.976847   \n1     br         1.536322                 {}       0.955539         4.977863   \n8    svr         0.353375                 {}       0.953056         5.114954   \n3     gb         0.102415                 {}       0.951521         5.197915   \n7    som         0.229511                 {}       0.919246         6.708635   \n6  ridge         0.000291                 {}       0.886828         7.941832   \n4     lr         0.003927                 {}       0.886827         7.941875   \n0     ab         1.249499                 {}       0.851619         9.093701   \n\n                                              scores  \n2  {'explained_variance': 0.9602748287789373, 'ma...  \n5  {'explained_variance': 0.9555865309859402, 'ma...  \n1  {'explained_variance': 0.9555726903412506, 'ma...  \n8  {'explained_variance': 0.9531320861973117, 'ma...  \n3  {'explained_variance': 0.9515296856750565, 'ma...  \n7  {'explained_variance': 0.9192776199432051, 'ma...  \n6  {'explained_variance': 0.8868683443600078, 'ma...  \n4  {'explained_variance': 0.8868671161336945, 'ma...  \n0  {'explained_variance': 0.8620583071038603, 'ma...  \n"
    }
   ],
   "source": [
    "results = framework.regression.models.test_models(results, savepred=False)\n",
    "print(\"\")\n",
    "print(results.sort_values(by=['prediction R2'], ascending=False))"
   ]
  }
 ]
}